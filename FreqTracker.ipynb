{
 "cells": [
  {
   "cell_type": "code",
   "execution_count": 1,
   "id": "98234975",
   "metadata": {},
   "outputs": [
    {
     "name": "stdout",
     "output_type": "stream",
     "text": [
      "Logging hadn't been started.\n",
      "Activating auto-logging. Current session state plus future input saved.\n",
      "Filename       : C:\\Users\\Hender12\\.qcodes\\logs\\command_history.log\n",
      "Mode           : append\n",
      "Output logging : True\n",
      "Raw input log  : False\n",
      "Timestamping   : True\n",
      "State          : active\n",
      "Qcodes Logfile : C:\\Users\\Hender12\\.qcodes\\logs\\231006-18024-qcodes.log\n"
     ]
    }
   ],
   "source": [
    "############# live plotting code #############\n",
    "#https://qcodes.github.io/Qcodes/examples/DataSet/Measuring%20X%20as%20a%20function%20of%20time.html\n",
    "#import all needed functions ext\n",
    "import os\n",
    "import numpy as np\n",
    "import qcodes as qc\n",
    "import IPython.lib.backgroundjobs as bg\n",
    "from plottr.apps import inspectr\n",
    "from zhinst.qcodes import UHFLI\n",
    "from qcodes import Parameter, Station\n",
    "import matplotlib.pyplot as plt\n",
    "from qcodes.parameters import ElapsedTimeParameter, Parameter\n",
    "from qcodes.dataset import (\n",
    "    Measurement,\n",
    "    do1d,\n",
    "    do2d,\n",
    "    initialise_or_create_database_at,\n",
    "    load_or_create_experiment,\n",
    "    plot_dataset,\n",
    "    connect,\n",
    "    experiments,\n",
    "    get_default_experiment_id,\n",
    "    load_experiment,\n",
    "    load_experiment_by_name,\n",
    "    load_last_experiment,\n",
    "    new_data_set,\n",
    "    new_experiment,\n",
    "    reset_default_experiment_id,\n",
    "    DataSetType,\n",
    "    load_by_run_spec,\n",
    ")\n",
    "\n",
    "#location for saving data\n",
    "local=r\"H:\\Uni\\Physics\\PhD\\Year_2\\CNT experiment\\Fork\\Code\\TrackFreqeuncy\\TestData\"\n",
    "#Start tracking of measurements\n",
    "qc.logger.start_all_logging()"
   ]
  },
  {
   "cell_type": "code",
   "execution_count": 2,
   "id": "ab7a6b94",
   "metadata": {},
   "outputs": [],
   "source": [
    "#Create a database to store all measured data relating to this experiment\n",
    "db_file_path = os.path.join(local, 'Frequency_Tracking.db')\n",
    "initialise_or_create_database_at(db_file_path)\n",
    "exp = load_or_create_experiment(experiment_name='Experiment Name', sample_name=\"Air1D\")"
   ]
  },
  {
   "cell_type": "code",
   "execution_count": 3,
   "id": "acb1feed",
   "metadata": {},
   "outputs": [
    {
     "name": "stderr",
     "output_type": "stream",
     "text": [
      "2023-10-06 14:29:42,474 ¦ zhinst.toolkit.driver.devices.uhfli ¦ ERROR ¦ uhfli ¦ awgs ¦ 24 ¦ Missing option: AWG\n"
     ]
    }
   ],
   "source": [
    "# Create an instance of UHFLI - the real instriment which this code connects to\n",
    "lockin = UHFLI(name='lockin', serial='dev2436', host='localhost')\n",
    "station = qc.Station(lockin)"
   ]
  },
  {
   "cell_type": "code",
   "execution_count": 4,
   "id": "33cf045c",
   "metadata": {},
   "outputs": [
    {
     "data": {
      "text/plain": [
       "<BackgroundJob #0: <function main at 0x0000022E07D1CAF0>>"
      ]
     },
     "execution_count": 4,
     "metadata": {},
     "output_type": "execute_result"
    }
   ],
   "source": [
    "jobs = bg.BackgroundJobManager()\n",
    "jobs.new(inspectr.main, db_file_path)"
   ]
  },
  {
   "cell_type": "code",
   "execution_count": 5,
   "id": "9f3753b6",
   "metadata": {},
   "outputs": [],
   "source": [
    "#To controle the instriments we need to create correct/find comands\n",
    "#I have a set command to set or get the frequency\n",
    "lockin.oscs[0].freq.set(32.75e3) #set command #32.75e3Hz is an example freq\n",
    "def frequencyget(): #Get comand\n",
    "    return(lockin.snapshot()[\"submodules\"][\"oscs\"][\"channels\"][\"lockin_oscs0\"][\"parameters\"][\"freq\"][\"raw_value\"])\n",
    "#Here is the equivilent comand for measured amplitude x, y and r\n",
    "def getampx():\n",
    "    return(float(lockin.demods[0].sample()[\"x\"]))\n",
    "def getampy():\n",
    "    return(float(lockin.demods[0].sample()[\"y\"]))"
   ]
  },
  {
   "cell_type": "code",
   "execution_count": 6,
   "id": "2da13b2b",
   "metadata": {},
   "outputs": [
    {
     "data": {
      "text/plain": [
       "</dev2436/demods/0/enable.on: 1>"
      ]
     },
     "execution_count": 6,
     "metadata": {},
     "output_type": "execute_result"
    }
   ],
   "source": [
    "#set the voltage signal value\n",
    "lockin.sigouts[0].imp50.set(0)\n",
    "lockin.sigouts[0].amplitudes[3].value(0.5) #0.75 max\n",
    "lockin.sigins[0].range(0.8)\n",
    "lockin.demods[3].timeconstant(52.37e-3)\n",
    "#Now turn on the measurement setup and turn on the voltage signal\n",
    "lockin.sigouts[0].on(True)\n",
    "lockin.demods[0].enable()"
   ]
  },
  {
   "cell_type": "code",
   "execution_count": 7,
   "id": "df29bd06",
   "metadata": {},
   "outputs": [],
   "source": [
    "time = ElapsedTimeParameter('time')\n",
    "# Define a QCoDeS parameter for the frequency\n",
    "frequency_parameter = Parameter('Frequency', unit=\"Hz\", get_cmd=frequencyget, set_cmd=lockin.oscs[0].freq.set)\n",
    "Amplitude_parameterx= Parameter('X_Amplitude', unit=\"V\", get_cmd=getampx)\n",
    "Amplitude_parametery = Parameter('Y_Amplitude', unit=\"V\", get_cmd=getampy)"
   ]
  },
  {
   "cell_type": "code",
   "execution_count": 8,
   "id": "0c28dc3d",
   "metadata": {},
   "outputs": [],
   "source": [
    "#A file containing all the functions to allow the data to be fitted\n",
    "%run ./FittingFunctions.ipynb\n",
    "\n",
    "#Functions to find the frequency of resonance in some data given\n",
    "#There plus the functions they call can be updated to move the frequency range to follow the resoance if it moves\n",
    "#There should also be a manuel way to change this range\n",
    "def Track_Maxr_freq():\n",
    "    start_frequency = 32.70e3  # Hz\n",
    "    end_frequency = 32.835e3  # Hz\n",
    "    num_points = 60\n",
    "    delay=0.1\n",
    "    return(getfreq2(start_frequency,end_frequency,num_points,delay))\n",
    "\n",
    "def Track_Fitted_freq():\n",
    "    start_frequency = 32.70e3  # Hz\n",
    "    end_frequency = 32.835e3  # Hz\n",
    "    num_points = 60\n",
    "    delay=0.1\n",
    "    return(getfreq(start_frequency,end_frequency,num_points,delay,False))"
   ]
  },
  {
   "cell_type": "code",
   "execution_count": 9,
   "id": "550f15ca",
   "metadata": {},
   "outputs": [],
   "source": [
    "time = ElapsedTimeParameter('time')\n",
    "# Define a QCoDeS parameter for the frequency\n",
    "frequency_parameter = Parameter('Frequency', unit=\"Hz\", get_cmd=frequencyget, set_cmd=lockin.oscs[0].freq.set)\n",
    "Amplitude_parameterx= Parameter('X_Amplitude', unit=\"V\", get_cmd=getampx)\n",
    "Amplitude_parametery = Parameter('Y_Amplitude', unit=\"V\", get_cmd=getampy)\n",
    "#Parameters for the frequency tracking\n",
    "Max_freq_parameter=Parameter('Max_Freq', unit=\"Hz\", get_cmd=Track_Maxr_freq)\n",
    "Fitted_freq_parameter=Parameter('Fitted_Freq', unit=\"Hz\", get_cmd=Track_Fitted_freq)\n",
    "time = ElapsedTimeParameter('time')"
   ]
  },
  {
   "cell_type": "code",
   "execution_count": 10,
   "id": "cecacbc3",
   "metadata": {},
   "outputs": [
    {
     "data": {
      "text/plain": [
       "<qcodes.dataset.measurements.Measurement at 0x22e0bb5d7c0>"
      ]
     },
     "execution_count": 10,
     "metadata": {},
     "output_type": "execute_result"
    }
   ],
   "source": [
    "meas = Measurement()\n",
    "meas.register_parameter(time)\n",
    "meas.register_parameter(Max_freq_parameter, setpoints=[time])"
   ]
  },
  {
   "cell_type": "code",
   "execution_count": 12,
   "id": "cebc06bc",
   "metadata": {
    "scrolled": true
   },
   "outputs": [
    {
     "name": "stdout",
     "output_type": "stream",
     "text": [
      "Starting experimental run with id: 6. \n",
      "Starting experimental run with id: 7. Using 'qcodes.dataset.do1d'\n",
      "Starting experimental run with id: 8. Using 'qcodes.dataset.do1d'\n",
      "Starting experimental run with id: 9. Using 'qcodes.dataset.do1d'\n",
      "Starting experimental run with id: 10. Using 'qcodes.dataset.do1d'\n",
      "Starting experimental run with id: 11. Using 'qcodes.dataset.do1d'\n",
      "Starting experimental run with id: 12. Using 'qcodes.dataset.do1d'\n"
     ]
    }
   ],
   "source": [
    "#This could be turned into a do 2D measurement perhaps now? I am unsure as it only tracks one number\n",
    "meas = Measurement()\n",
    "meas.register_parameter(time)\n",
    "meas.register_parameter(Max_freq_parameter, setpoints=[time])\n",
    "meas.register_parameter(Fitted_freq_parameter, setpoints=[time]) #Could track this one also but I think looking for the maximum is faster.\n",
    "\n",
    "with meas.run() as datasaver:\n",
    "    time.reset_clock()\n",
    "    for _ in range(3): #(9 measurements takes ~100s)\n",
    "        now = time()\n",
    "        plt.rcParams[\"font.family\"] = \"Arial\"\n",
    "        datasaver.add_result((Max_freq_parameter, Max_freq_parameter()), (Fitted_freq_parameter, Fitted_freq_parameter()), (time, now)) #Tracks both\n",
    "        #datasaver.add_result((Max_freq_parameter, Max_freq_parameter()), (time, now))\n",
    "dataset = datasaver.dataset"
   ]
  },
  {
   "cell_type": "code",
   "execution_count": 13,
   "id": "f3ba0e57",
   "metadata": {
    "scrolled": false
   },
   "outputs": [
    {
     "data": {
      "image/png": "[encoded data removed]",
      "text/plain": [
       "<Figure size 640x480 with 1 Axes>"
      ]
     },
     "metadata": {},
     "output_type": "display_data"
    },
    {
     "data": {
      "image/png": "[encoded data removed]",
      "text/plain": [
       "<Figure size 640x480 with 1 Axes>"
      ]
     },
     "metadata": {},
     "output_type": "display_data"
    }
   ],
   "source": [
    "plt.rcParams[\"font.family\"] = \"Arial\"\n",
    "axs, cbs = plot_dataset(dataset)"
   ]
  },
  {
   "cell_type": "code",
   "execution_count": null,
   "id": "2700e558",
   "metadata": {},
   "outputs": [],
   "source": []
  }
 ],
 "metadata": {
  "kernelspec": {
   "display_name": "Python 3 (ipykernel)",
   "language": "python",
   "name": "python3"
  },
  "language_info": {
   "codemirror_mode": {
    "name": "ipython",
    "version": 3
   },
   "file_extension": ".py",
   "mimetype": "text/x-python",
   "name": "python",
   "nbconvert_exporter": "python",
   "pygments_lexer": "ipython3",
   "version": "3.9.16"
  }
 },
 "nbformat": 4,
 "nbformat_minor": 5
}
